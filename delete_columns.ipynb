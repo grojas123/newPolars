{
 "cells": [
  {
   "metadata": {
    "ExecuteTime": {
     "end_time": "2024-10-10T20:55:10.559840Z",
     "start_time": "2024-10-10T20:55:10.438591Z"
    }
   },
   "cell_type": "code",
   "source": "import polars as pl",
   "id": "9135ceb6518f6fc",
   "outputs": [],
   "execution_count": 1
  },
  {
   "metadata": {
    "collapsed": true,
    "ExecuteTime": {
     "end_time": "2024-10-10T20:55:12.449280Z",
     "start_time": "2024-10-10T20:55:12.379236Z"
    }
   },
   "cell_type": "code",
   "source": "df=pl.read_csv('data/titanic_dataset.csv')",
   "id": "initial_id",
   "outputs": [],
   "execution_count": 2
  },
  {
   "metadata": {
    "ExecuteTime": {
     "end_time": "2024-10-10T20:56:48.205676Z",
     "start_time": "2024-10-10T20:56:48.185674Z"
    }
   },
   "cell_type": "code",
   "source": "df.with_columns(pl.col('Fare').max().alias('Max Fare'))",
   "id": "520c645cb53af0dd",
   "outputs": [
    {
     "data": {
      "text/plain": [
       "shape: (891, 13)\n",
       "┌─────────────┬──────────┬────────┬────────────────────┬───┬─────────┬───────┬──────────┬──────────┐\n",
       "│ PassengerId ┆ Survived ┆ Pclass ┆ Name               ┆ … ┆ Fare    ┆ Cabin ┆ Embarked ┆ Max Fare │\n",
       "│ ---         ┆ ---      ┆ ---    ┆ ---                ┆   ┆ ---     ┆ ---   ┆ ---      ┆ ---      │\n",
       "│ i64         ┆ i64      ┆ i64    ┆ str                ┆   ┆ f64     ┆ str   ┆ str      ┆ f64      │\n",
       "╞═════════════╪══════════╪════════╪════════════════════╪═══╪═════════╪═══════╪══════════╪══════════╡\n",
       "│ 1           ┆ 0        ┆ 3      ┆ Braund, Mr. Owen   ┆ … ┆ 7.25    ┆ null  ┆ S        ┆ 512.3292 │\n",
       "│             ┆          ┆        ┆ Harris             ┆   ┆         ┆       ┆          ┆          │\n",
       "│ 2           ┆ 1        ┆ 1      ┆ Cumings, Mrs. John ┆ … ┆ 71.2833 ┆ C85   ┆ C        ┆ 512.3292 │\n",
       "│             ┆          ┆        ┆ Bradley (Fl…       ┆   ┆         ┆       ┆          ┆          │\n",
       "│ 3           ┆ 1        ┆ 3      ┆ Heikkinen, Miss.   ┆ … ┆ 7.925   ┆ null  ┆ S        ┆ 512.3292 │\n",
       "│             ┆          ┆        ┆ Laina              ┆   ┆         ┆       ┆          ┆          │\n",
       "│ 4           ┆ 1        ┆ 1      ┆ Futrelle, Mrs.     ┆ … ┆ 53.1    ┆ C123  ┆ S        ┆ 512.3292 │\n",
       "│             ┆          ┆        ┆ Jacques Heath (…   ┆   ┆         ┆       ┆          ┆          │\n",
       "│ 5           ┆ 0        ┆ 3      ┆ Allen, Mr. William ┆ … ┆ 8.05    ┆ null  ┆ S        ┆ 512.3292 │\n",
       "│             ┆          ┆        ┆ Henry              ┆   ┆         ┆       ┆          ┆          │\n",
       "│ …           ┆ …        ┆ …      ┆ …                  ┆ … ┆ …       ┆ …     ┆ …        ┆ …        │\n",
       "│ 887         ┆ 0        ┆ 2      ┆ Montvila, Rev.     ┆ … ┆ 13.0    ┆ null  ┆ S        ┆ 512.3292 │\n",
       "│             ┆          ┆        ┆ Juozas             ┆   ┆         ┆       ┆          ┆          │\n",
       "│ 888         ┆ 1        ┆ 1      ┆ Graham, Miss.      ┆ … ┆ 30.0    ┆ B42   ┆ S        ┆ 512.3292 │\n",
       "│             ┆          ┆        ┆ Margaret Edith     ┆   ┆         ┆       ┆          ┆          │\n",
       "│ 889         ┆ 0        ┆ 3      ┆ Johnston, Miss.    ┆ … ┆ 23.45   ┆ null  ┆ S        ┆ 512.3292 │\n",
       "│             ┆          ┆        ┆ Catherine Hele…    ┆   ┆         ┆       ┆          ┆          │\n",
       "│ 890         ┆ 1        ┆ 1      ┆ Behr, Mr. Karl     ┆ … ┆ 30.0    ┆ C148  ┆ C        ┆ 512.3292 │\n",
       "│             ┆          ┆        ┆ Howell             ┆   ┆         ┆       ┆          ┆          │\n",
       "│ 891         ┆ 0        ┆ 3      ┆ Dooley, Mr.        ┆ … ┆ 7.75    ┆ null  ┆ Q        ┆ 512.3292 │\n",
       "│             ┆          ┆        ┆ Patrick            ┆   ┆         ┆       ┆          ┆          │\n",
       "└─────────────┴──────────┴────────┴────────────────────┴───┴─────────┴───────┴──────────┴──────────┘"
      ],
      "text/html": [
       "<div><style>\n",
       ".dataframe > thead > tr,\n",
       ".dataframe > tbody > tr {\n",
       "  text-align: right;\n",
       "  white-space: pre-wrap;\n",
       "}\n",
       "</style>\n",
       "<small>shape: (891, 13)</small><table border=\"1\" class=\"dataframe\"><thead><tr><th>PassengerId</th><th>Survived</th><th>Pclass</th><th>Name</th><th>Sex</th><th>Age</th><th>SibSp</th><th>Parch</th><th>Ticket</th><th>Fare</th><th>Cabin</th><th>Embarked</th><th>Max Fare</th></tr><tr><td>i64</td><td>i64</td><td>i64</td><td>str</td><td>str</td><td>f64</td><td>i64</td><td>i64</td><td>str</td><td>f64</td><td>str</td><td>str</td><td>f64</td></tr></thead><tbody><tr><td>1</td><td>0</td><td>3</td><td>&quot;Braund, Mr. Owen Harris&quot;</td><td>&quot;male&quot;</td><td>22.0</td><td>1</td><td>0</td><td>&quot;A/5 21171&quot;</td><td>7.25</td><td>null</td><td>&quot;S&quot;</td><td>512.3292</td></tr><tr><td>2</td><td>1</td><td>1</td><td>&quot;Cumings, Mrs. John Bradley (Fl…</td><td>&quot;female&quot;</td><td>38.0</td><td>1</td><td>0</td><td>&quot;PC 17599&quot;</td><td>71.2833</td><td>&quot;C85&quot;</td><td>&quot;C&quot;</td><td>512.3292</td></tr><tr><td>3</td><td>1</td><td>3</td><td>&quot;Heikkinen, Miss. Laina&quot;</td><td>&quot;female&quot;</td><td>26.0</td><td>0</td><td>0</td><td>&quot;STON/O2. 3101282&quot;</td><td>7.925</td><td>null</td><td>&quot;S&quot;</td><td>512.3292</td></tr><tr><td>4</td><td>1</td><td>1</td><td>&quot;Futrelle, Mrs. Jacques Heath (…</td><td>&quot;female&quot;</td><td>35.0</td><td>1</td><td>0</td><td>&quot;113803&quot;</td><td>53.1</td><td>&quot;C123&quot;</td><td>&quot;S&quot;</td><td>512.3292</td></tr><tr><td>5</td><td>0</td><td>3</td><td>&quot;Allen, Mr. William Henry&quot;</td><td>&quot;male&quot;</td><td>35.0</td><td>0</td><td>0</td><td>&quot;373450&quot;</td><td>8.05</td><td>null</td><td>&quot;S&quot;</td><td>512.3292</td></tr><tr><td>&hellip;</td><td>&hellip;</td><td>&hellip;</td><td>&hellip;</td><td>&hellip;</td><td>&hellip;</td><td>&hellip;</td><td>&hellip;</td><td>&hellip;</td><td>&hellip;</td><td>&hellip;</td><td>&hellip;</td><td>&hellip;</td></tr><tr><td>887</td><td>0</td><td>2</td><td>&quot;Montvila, Rev. Juozas&quot;</td><td>&quot;male&quot;</td><td>27.0</td><td>0</td><td>0</td><td>&quot;211536&quot;</td><td>13.0</td><td>null</td><td>&quot;S&quot;</td><td>512.3292</td></tr><tr><td>888</td><td>1</td><td>1</td><td>&quot;Graham, Miss. Margaret Edith&quot;</td><td>&quot;female&quot;</td><td>19.0</td><td>0</td><td>0</td><td>&quot;112053&quot;</td><td>30.0</td><td>&quot;B42&quot;</td><td>&quot;S&quot;</td><td>512.3292</td></tr><tr><td>889</td><td>0</td><td>3</td><td>&quot;Johnston, Miss. Catherine Hele…</td><td>&quot;female&quot;</td><td>null</td><td>1</td><td>2</td><td>&quot;W./C. 6607&quot;</td><td>23.45</td><td>null</td><td>&quot;S&quot;</td><td>512.3292</td></tr><tr><td>890</td><td>1</td><td>1</td><td>&quot;Behr, Mr. Karl Howell&quot;</td><td>&quot;male&quot;</td><td>26.0</td><td>0</td><td>0</td><td>&quot;111369&quot;</td><td>30.0</td><td>&quot;C148&quot;</td><td>&quot;C&quot;</td><td>512.3292</td></tr><tr><td>891</td><td>0</td><td>3</td><td>&quot;Dooley, Mr. Patrick&quot;</td><td>&quot;male&quot;</td><td>32.0</td><td>0</td><td>0</td><td>&quot;370376&quot;</td><td>7.75</td><td>null</td><td>&quot;Q&quot;</td><td>512.3292</td></tr></tbody></table></div>"
      ]
     },
     "execution_count": 3,
     "metadata": {},
     "output_type": "execute_result"
    }
   ],
   "execution_count": 3
  },
  {
   "metadata": {
    "ExecuteTime": {
     "end_time": "2024-10-10T20:59:40.326383Z",
     "start_time": "2024-10-10T20:59:40.311381Z"
    }
   },
   "cell_type": "code",
   "source": "df.with_columns(max_fare=pl.col('Fare').max()).head()",
   "id": "4262e5b8b5c59523",
   "outputs": [
    {
     "data": {
      "text/plain": [
       "shape: (5, 13)\n",
       "┌─────────────┬──────────┬────────┬────────────────────┬───┬─────────┬───────┬──────────┬──────────┐\n",
       "│ PassengerId ┆ Survived ┆ Pclass ┆ Name               ┆ … ┆ Fare    ┆ Cabin ┆ Embarked ┆ max_fare │\n",
       "│ ---         ┆ ---      ┆ ---    ┆ ---                ┆   ┆ ---     ┆ ---   ┆ ---      ┆ ---      │\n",
       "│ i64         ┆ i64      ┆ i64    ┆ str                ┆   ┆ f64     ┆ str   ┆ str      ┆ f64      │\n",
       "╞═════════════╪══════════╪════════╪════════════════════╪═══╪═════════╪═══════╪══════════╪══════════╡\n",
       "│ 1           ┆ 0        ┆ 3      ┆ Braund, Mr. Owen   ┆ … ┆ 7.25    ┆ null  ┆ S        ┆ 512.3292 │\n",
       "│             ┆          ┆        ┆ Harris             ┆   ┆         ┆       ┆          ┆          │\n",
       "│ 2           ┆ 1        ┆ 1      ┆ Cumings, Mrs. John ┆ … ┆ 71.2833 ┆ C85   ┆ C        ┆ 512.3292 │\n",
       "│             ┆          ┆        ┆ Bradley (Fl…       ┆   ┆         ┆       ┆          ┆          │\n",
       "│ 3           ┆ 1        ┆ 3      ┆ Heikkinen, Miss.   ┆ … ┆ 7.925   ┆ null  ┆ S        ┆ 512.3292 │\n",
       "│             ┆          ┆        ┆ Laina              ┆   ┆         ┆       ┆          ┆          │\n",
       "│ 4           ┆ 1        ┆ 1      ┆ Futrelle, Mrs.     ┆ … ┆ 53.1    ┆ C123  ┆ S        ┆ 512.3292 │\n",
       "│             ┆          ┆        ┆ Jacques Heath (…   ┆   ┆         ┆       ┆          ┆          │\n",
       "│ 5           ┆ 0        ┆ 3      ┆ Allen, Mr. William ┆ … ┆ 8.05    ┆ null  ┆ S        ┆ 512.3292 │\n",
       "│             ┆          ┆        ┆ Henry              ┆   ┆         ┆       ┆          ┆          │\n",
       "└─────────────┴──────────┴────────┴────────────────────┴───┴─────────┴───────┴──────────┴──────────┘"
      ],
      "text/html": [
       "<div><style>\n",
       ".dataframe > thead > tr,\n",
       ".dataframe > tbody > tr {\n",
       "  text-align: right;\n",
       "  white-space: pre-wrap;\n",
       "}\n",
       "</style>\n",
       "<small>shape: (5, 13)</small><table border=\"1\" class=\"dataframe\"><thead><tr><th>PassengerId</th><th>Survived</th><th>Pclass</th><th>Name</th><th>Sex</th><th>Age</th><th>SibSp</th><th>Parch</th><th>Ticket</th><th>Fare</th><th>Cabin</th><th>Embarked</th><th>max_fare</th></tr><tr><td>i64</td><td>i64</td><td>i64</td><td>str</td><td>str</td><td>f64</td><td>i64</td><td>i64</td><td>str</td><td>f64</td><td>str</td><td>str</td><td>f64</td></tr></thead><tbody><tr><td>1</td><td>0</td><td>3</td><td>&quot;Braund, Mr. Owen Harris&quot;</td><td>&quot;male&quot;</td><td>22.0</td><td>1</td><td>0</td><td>&quot;A/5 21171&quot;</td><td>7.25</td><td>null</td><td>&quot;S&quot;</td><td>512.3292</td></tr><tr><td>2</td><td>1</td><td>1</td><td>&quot;Cumings, Mrs. John Bradley (Fl…</td><td>&quot;female&quot;</td><td>38.0</td><td>1</td><td>0</td><td>&quot;PC 17599&quot;</td><td>71.2833</td><td>&quot;C85&quot;</td><td>&quot;C&quot;</td><td>512.3292</td></tr><tr><td>3</td><td>1</td><td>3</td><td>&quot;Heikkinen, Miss. Laina&quot;</td><td>&quot;female&quot;</td><td>26.0</td><td>0</td><td>0</td><td>&quot;STON/O2. 3101282&quot;</td><td>7.925</td><td>null</td><td>&quot;S&quot;</td><td>512.3292</td></tr><tr><td>4</td><td>1</td><td>1</td><td>&quot;Futrelle, Mrs. Jacques Heath (…</td><td>&quot;female&quot;</td><td>35.0</td><td>1</td><td>0</td><td>&quot;113803&quot;</td><td>53.1</td><td>&quot;C123&quot;</td><td>&quot;S&quot;</td><td>512.3292</td></tr><tr><td>5</td><td>0</td><td>3</td><td>&quot;Allen, Mr. William Henry&quot;</td><td>&quot;male&quot;</td><td>35.0</td><td>0</td><td>0</td><td>&quot;373450&quot;</td><td>8.05</td><td>null</td><td>&quot;S&quot;</td><td>512.3292</td></tr></tbody></table></div>"
      ]
     },
     "execution_count": 4,
     "metadata": {},
     "output_type": "execute_result"
    }
   ],
   "execution_count": 4
  },
  {
   "metadata": {
    "ExecuteTime": {
     "end_time": "2024-10-10T21:00:54.990634Z",
     "start_time": "2024-10-10T21:00:54.972589Z"
    }
   },
   "cell_type": "code",
   "source": "df.with_columns(pl.col('Fare').max()).head()",
   "id": "1856605ecf24da78",
   "outputs": [
    {
     "data": {
      "text/plain": [
       "shape: (5, 12)\n",
       "┌─────────────┬──────────┬────────┬──────────────────┬───┬───────────┬──────────┬───────┬──────────┐\n",
       "│ PassengerId ┆ Survived ┆ Pclass ┆ Name             ┆ … ┆ Ticket    ┆ Fare     ┆ Cabin ┆ Embarked │\n",
       "│ ---         ┆ ---      ┆ ---    ┆ ---              ┆   ┆ ---       ┆ ---      ┆ ---   ┆ ---      │\n",
       "│ i64         ┆ i64      ┆ i64    ┆ str              ┆   ┆ str       ┆ f64      ┆ str   ┆ str      │\n",
       "╞═════════════╪══════════╪════════╪══════════════════╪═══╪═══════════╪══════════╪═══════╪══════════╡\n",
       "│ 1           ┆ 0        ┆ 3      ┆ Braund, Mr. Owen ┆ … ┆ A/5 21171 ┆ 512.3292 ┆ null  ┆ S        │\n",
       "│             ┆          ┆        ┆ Harris           ┆   ┆           ┆          ┆       ┆          │\n",
       "│ 2           ┆ 1        ┆ 1      ┆ Cumings, Mrs.    ┆ … ┆ PC 17599  ┆ 512.3292 ┆ C85   ┆ C        │\n",
       "│             ┆          ┆        ┆ John Bradley     ┆   ┆           ┆          ┆       ┆          │\n",
       "│             ┆          ┆        ┆ (Fl…             ┆   ┆           ┆          ┆       ┆          │\n",
       "│ 3           ┆ 1        ┆ 3      ┆ Heikkinen, Miss. ┆ … ┆ STON/O2.  ┆ 512.3292 ┆ null  ┆ S        │\n",
       "│             ┆          ┆        ┆ Laina            ┆   ┆ 3101282   ┆          ┆       ┆          │\n",
       "│ 4           ┆ 1        ┆ 1      ┆ Futrelle, Mrs.   ┆ … ┆ 113803    ┆ 512.3292 ┆ C123  ┆ S        │\n",
       "│             ┆          ┆        ┆ Jacques Heath (… ┆   ┆           ┆          ┆       ┆          │\n",
       "│ 5           ┆ 0        ┆ 3      ┆ Allen, Mr.       ┆ … ┆ 373450    ┆ 512.3292 ┆ null  ┆ S        │\n",
       "│             ┆          ┆        ┆ William Henry    ┆   ┆           ┆          ┆       ┆          │\n",
       "└─────────────┴──────────┴────────┴──────────────────┴───┴───────────┴──────────┴───────┴──────────┘"
      ],
      "text/html": [
       "<div><style>\n",
       ".dataframe > thead > tr,\n",
       ".dataframe > tbody > tr {\n",
       "  text-align: right;\n",
       "  white-space: pre-wrap;\n",
       "}\n",
       "</style>\n",
       "<small>shape: (5, 12)</small><table border=\"1\" class=\"dataframe\"><thead><tr><th>PassengerId</th><th>Survived</th><th>Pclass</th><th>Name</th><th>Sex</th><th>Age</th><th>SibSp</th><th>Parch</th><th>Ticket</th><th>Fare</th><th>Cabin</th><th>Embarked</th></tr><tr><td>i64</td><td>i64</td><td>i64</td><td>str</td><td>str</td><td>f64</td><td>i64</td><td>i64</td><td>str</td><td>f64</td><td>str</td><td>str</td></tr></thead><tbody><tr><td>1</td><td>0</td><td>3</td><td>&quot;Braund, Mr. Owen Harris&quot;</td><td>&quot;male&quot;</td><td>22.0</td><td>1</td><td>0</td><td>&quot;A/5 21171&quot;</td><td>512.3292</td><td>null</td><td>&quot;S&quot;</td></tr><tr><td>2</td><td>1</td><td>1</td><td>&quot;Cumings, Mrs. John Bradley (Fl…</td><td>&quot;female&quot;</td><td>38.0</td><td>1</td><td>0</td><td>&quot;PC 17599&quot;</td><td>512.3292</td><td>&quot;C85&quot;</td><td>&quot;C&quot;</td></tr><tr><td>3</td><td>1</td><td>3</td><td>&quot;Heikkinen, Miss. Laina&quot;</td><td>&quot;female&quot;</td><td>26.0</td><td>0</td><td>0</td><td>&quot;STON/O2. 3101282&quot;</td><td>512.3292</td><td>null</td><td>&quot;S&quot;</td></tr><tr><td>4</td><td>1</td><td>1</td><td>&quot;Futrelle, Mrs. Jacques Heath (…</td><td>&quot;female&quot;</td><td>35.0</td><td>1</td><td>0</td><td>&quot;113803&quot;</td><td>512.3292</td><td>&quot;C123&quot;</td><td>&quot;S&quot;</td></tr><tr><td>5</td><td>0</td><td>3</td><td>&quot;Allen, Mr. William Henry&quot;</td><td>&quot;male&quot;</td><td>35.0</td><td>0</td><td>0</td><td>&quot;373450&quot;</td><td>512.3292</td><td>null</td><td>&quot;S&quot;</td></tr></tbody></table></div>"
      ]
     },
     "execution_count": 5,
     "metadata": {},
     "output_type": "execute_result"
    }
   ],
   "execution_count": 5
  },
  {
   "metadata": {
    "ExecuteTime": {
     "end_time": "2024-10-10T22:01:47.589524Z",
     "start_time": "2024-10-10T22:01:47.569906Z"
    }
   },
   "cell_type": "code",
   "source": "df.with_columns((pl.col('Fare').max() - pl.col('Fare').mean()).alias('Max Fare - Avg Fare')).head()",
   "id": "737a8b72caee179c",
   "outputs": [
    {
     "data": {
      "text/plain": [
       "shape: (5, 13)\n",
       "┌─────────────┬──────────┬────────┬──────────────────┬───┬─────────┬───────┬──────────┬────────────┐\n",
       "│ PassengerId ┆ Survived ┆ Pclass ┆ Name             ┆ … ┆ Fare    ┆ Cabin ┆ Embarked ┆ Max Fare - │\n",
       "│ ---         ┆ ---      ┆ ---    ┆ ---              ┆   ┆ ---     ┆ ---   ┆ ---      ┆ Avg Fare   │\n",
       "│ i64         ┆ i64      ┆ i64    ┆ str              ┆   ┆ f64     ┆ str   ┆ str      ┆ ---        │\n",
       "│             ┆          ┆        ┆                  ┆   ┆         ┆       ┆          ┆ f64        │\n",
       "╞═════════════╪══════════╪════════╪══════════════════╪═══╪═════════╪═══════╪══════════╪════════════╡\n",
       "│ 1           ┆ 0        ┆ 3      ┆ Braund, Mr. Owen ┆ … ┆ 7.25    ┆ null  ┆ S        ┆ 480.124992 │\n",
       "│             ┆          ┆        ┆ Harris           ┆   ┆         ┆       ┆          ┆            │\n",
       "│ 2           ┆ 1        ┆ 1      ┆ Cumings, Mrs.    ┆ … ┆ 71.2833 ┆ C85   ┆ C        ┆ 480.124992 │\n",
       "│             ┆          ┆        ┆ John Bradley     ┆   ┆         ┆       ┆          ┆            │\n",
       "│             ┆          ┆        ┆ (Fl…             ┆   ┆         ┆       ┆          ┆            │\n",
       "│ 3           ┆ 1        ┆ 3      ┆ Heikkinen, Miss. ┆ … ┆ 7.925   ┆ null  ┆ S        ┆ 480.124992 │\n",
       "│             ┆          ┆        ┆ Laina            ┆   ┆         ┆       ┆          ┆            │\n",
       "│ 4           ┆ 1        ┆ 1      ┆ Futrelle, Mrs.   ┆ … ┆ 53.1    ┆ C123  ┆ S        ┆ 480.124992 │\n",
       "│             ┆          ┆        ┆ Jacques Heath (… ┆   ┆         ┆       ┆          ┆            │\n",
       "│ 5           ┆ 0        ┆ 3      ┆ Allen, Mr.       ┆ … ┆ 8.05    ┆ null  ┆ S        ┆ 480.124992 │\n",
       "│             ┆          ┆        ┆ William Henry    ┆   ┆         ┆       ┆          ┆            │\n",
       "└─────────────┴──────────┴────────┴──────────────────┴───┴─────────┴───────┴──────────┴────────────┘"
      ],
      "text/html": [
       "<div><style>\n",
       ".dataframe > thead > tr,\n",
       ".dataframe > tbody > tr {\n",
       "  text-align: right;\n",
       "  white-space: pre-wrap;\n",
       "}\n",
       "</style>\n",
       "<small>shape: (5, 13)</small><table border=\"1\" class=\"dataframe\"><thead><tr><th>PassengerId</th><th>Survived</th><th>Pclass</th><th>Name</th><th>Sex</th><th>Age</th><th>SibSp</th><th>Parch</th><th>Ticket</th><th>Fare</th><th>Cabin</th><th>Embarked</th><th>Max Fare - Avg Fare</th></tr><tr><td>i64</td><td>i64</td><td>i64</td><td>str</td><td>str</td><td>f64</td><td>i64</td><td>i64</td><td>str</td><td>f64</td><td>str</td><td>str</td><td>f64</td></tr></thead><tbody><tr><td>1</td><td>0</td><td>3</td><td>&quot;Braund, Mr. Owen Harris&quot;</td><td>&quot;male&quot;</td><td>22.0</td><td>1</td><td>0</td><td>&quot;A/5 21171&quot;</td><td>7.25</td><td>null</td><td>&quot;S&quot;</td><td>480.124992</td></tr><tr><td>2</td><td>1</td><td>1</td><td>&quot;Cumings, Mrs. John Bradley (Fl…</td><td>&quot;female&quot;</td><td>38.0</td><td>1</td><td>0</td><td>&quot;PC 17599&quot;</td><td>71.2833</td><td>&quot;C85&quot;</td><td>&quot;C&quot;</td><td>480.124992</td></tr><tr><td>3</td><td>1</td><td>3</td><td>&quot;Heikkinen, Miss. Laina&quot;</td><td>&quot;female&quot;</td><td>26.0</td><td>0</td><td>0</td><td>&quot;STON/O2. 3101282&quot;</td><td>7.925</td><td>null</td><td>&quot;S&quot;</td><td>480.124992</td></tr><tr><td>4</td><td>1</td><td>1</td><td>&quot;Futrelle, Mrs. Jacques Heath (…</td><td>&quot;female&quot;</td><td>35.0</td><td>1</td><td>0</td><td>&quot;113803&quot;</td><td>53.1</td><td>&quot;C123&quot;</td><td>&quot;S&quot;</td><td>480.124992</td></tr><tr><td>5</td><td>0</td><td>3</td><td>&quot;Allen, Mr. William Henry&quot;</td><td>&quot;male&quot;</td><td>35.0</td><td>0</td><td>0</td><td>&quot;373450&quot;</td><td>8.05</td><td>null</td><td>&quot;S&quot;</td><td>480.124992</td></tr></tbody></table></div>"
      ]
     },
     "execution_count": 6,
     "metadata": {},
     "output_type": "execute_result"
    }
   ],
   "execution_count": 6
  },
  {
   "metadata": {
    "ExecuteTime": {
     "end_time": "2024-10-10T22:05:21.090752Z",
     "start_time": "2024-10-10T22:05:21.069748Z"
    }
   },
   "cell_type": "code",
   "source": "df.with_columns(pl.lit('Titanic')).head()",
   "id": "3c47564756209e7b",
   "outputs": [
    {
     "data": {
      "text/plain": [
       "shape: (5, 13)\n",
       "┌─────────────┬──────────┬────────┬─────────────────────┬───┬─────────┬───────┬──────────┬─────────┐\n",
       "│ PassengerId ┆ Survived ┆ Pclass ┆ Name                ┆ … ┆ Fare    ┆ Cabin ┆ Embarked ┆ literal │\n",
       "│ ---         ┆ ---      ┆ ---    ┆ ---                 ┆   ┆ ---     ┆ ---   ┆ ---      ┆ ---     │\n",
       "│ i64         ┆ i64      ┆ i64    ┆ str                 ┆   ┆ f64     ┆ str   ┆ str      ┆ str     │\n",
       "╞═════════════╪══════════╪════════╪═════════════════════╪═══╪═════════╪═══════╪══════════╪═════════╡\n",
       "│ 1           ┆ 0        ┆ 3      ┆ Braund, Mr. Owen    ┆ … ┆ 7.25    ┆ null  ┆ S        ┆ Titanic │\n",
       "│             ┆          ┆        ┆ Harris              ┆   ┆         ┆       ┆          ┆         │\n",
       "│ 2           ┆ 1        ┆ 1      ┆ Cumings, Mrs. John  ┆ … ┆ 71.2833 ┆ C85   ┆ C        ┆ Titanic │\n",
       "│             ┆          ┆        ┆ Bradley (Fl…        ┆   ┆         ┆       ┆          ┆         │\n",
       "│ 3           ┆ 1        ┆ 3      ┆ Heikkinen, Miss.    ┆ … ┆ 7.925   ┆ null  ┆ S        ┆ Titanic │\n",
       "│             ┆          ┆        ┆ Laina               ┆   ┆         ┆       ┆          ┆         │\n",
       "│ 4           ┆ 1        ┆ 1      ┆ Futrelle, Mrs.      ┆ … ┆ 53.1    ┆ C123  ┆ S        ┆ Titanic │\n",
       "│             ┆          ┆        ┆ Jacques Heath (…    ┆   ┆         ┆       ┆          ┆         │\n",
       "│ 5           ┆ 0        ┆ 3      ┆ Allen, Mr. William  ┆ … ┆ 8.05    ┆ null  ┆ S        ┆ Titanic │\n",
       "│             ┆          ┆        ┆ Henry               ┆   ┆         ┆       ┆          ┆         │\n",
       "└─────────────┴──────────┴────────┴─────────────────────┴───┴─────────┴───────┴──────────┴─────────┘"
      ],
      "text/html": [
       "<div><style>\n",
       ".dataframe > thead > tr,\n",
       ".dataframe > tbody > tr {\n",
       "  text-align: right;\n",
       "  white-space: pre-wrap;\n",
       "}\n",
       "</style>\n",
       "<small>shape: (5, 13)</small><table border=\"1\" class=\"dataframe\"><thead><tr><th>PassengerId</th><th>Survived</th><th>Pclass</th><th>Name</th><th>Sex</th><th>Age</th><th>SibSp</th><th>Parch</th><th>Ticket</th><th>Fare</th><th>Cabin</th><th>Embarked</th><th>literal</th></tr><tr><td>i64</td><td>i64</td><td>i64</td><td>str</td><td>str</td><td>f64</td><td>i64</td><td>i64</td><td>str</td><td>f64</td><td>str</td><td>str</td><td>str</td></tr></thead><tbody><tr><td>1</td><td>0</td><td>3</td><td>&quot;Braund, Mr. Owen Harris&quot;</td><td>&quot;male&quot;</td><td>22.0</td><td>1</td><td>0</td><td>&quot;A/5 21171&quot;</td><td>7.25</td><td>null</td><td>&quot;S&quot;</td><td>&quot;Titanic&quot;</td></tr><tr><td>2</td><td>1</td><td>1</td><td>&quot;Cumings, Mrs. John Bradley (Fl…</td><td>&quot;female&quot;</td><td>38.0</td><td>1</td><td>0</td><td>&quot;PC 17599&quot;</td><td>71.2833</td><td>&quot;C85&quot;</td><td>&quot;C&quot;</td><td>&quot;Titanic&quot;</td></tr><tr><td>3</td><td>1</td><td>3</td><td>&quot;Heikkinen, Miss. Laina&quot;</td><td>&quot;female&quot;</td><td>26.0</td><td>0</td><td>0</td><td>&quot;STON/O2. 3101282&quot;</td><td>7.925</td><td>null</td><td>&quot;S&quot;</td><td>&quot;Titanic&quot;</td></tr><tr><td>4</td><td>1</td><td>1</td><td>&quot;Futrelle, Mrs. Jacques Heath (…</td><td>&quot;female&quot;</td><td>35.0</td><td>1</td><td>0</td><td>&quot;113803&quot;</td><td>53.1</td><td>&quot;C123&quot;</td><td>&quot;S&quot;</td><td>&quot;Titanic&quot;</td></tr><tr><td>5</td><td>0</td><td>3</td><td>&quot;Allen, Mr. William Henry&quot;</td><td>&quot;male&quot;</td><td>35.0</td><td>0</td><td>0</td><td>&quot;373450&quot;</td><td>8.05</td><td>null</td><td>&quot;S&quot;</td><td>&quot;Titanic&quot;</td></tr></tbody></table></div>"
      ]
     },
     "execution_count": 7,
     "metadata": {},
     "output_type": "execute_result"
    }
   ],
   "execution_count": 7
  },
  {
   "metadata": {
    "ExecuteTime": {
     "end_time": "2024-10-10T22:06:20.313915Z",
     "start_time": "2024-10-10T22:06:20.298794Z"
    }
   },
   "cell_type": "code",
   "source": "df.with_row_index().head()",
   "id": "e8034a7fca3131ed",
   "outputs": [
    {
     "data": {
      "text/plain": [
       "shape: (5, 13)\n",
       "┌───────┬─────────────┬──────────┬────────┬───┬──────────────────┬─────────┬───────┬──────────┐\n",
       "│ index ┆ PassengerId ┆ Survived ┆ Pclass ┆ … ┆ Ticket           ┆ Fare    ┆ Cabin ┆ Embarked │\n",
       "│ ---   ┆ ---         ┆ ---      ┆ ---    ┆   ┆ ---              ┆ ---     ┆ ---   ┆ ---      │\n",
       "│ u32   ┆ i64         ┆ i64      ┆ i64    ┆   ┆ str              ┆ f64     ┆ str   ┆ str      │\n",
       "╞═══════╪═════════════╪══════════╪════════╪═══╪══════════════════╪═════════╪═══════╪══════════╡\n",
       "│ 0     ┆ 1           ┆ 0        ┆ 3      ┆ … ┆ A/5 21171        ┆ 7.25    ┆ null  ┆ S        │\n",
       "│ 1     ┆ 2           ┆ 1        ┆ 1      ┆ … ┆ PC 17599         ┆ 71.2833 ┆ C85   ┆ C        │\n",
       "│ 2     ┆ 3           ┆ 1        ┆ 3      ┆ … ┆ STON/O2. 3101282 ┆ 7.925   ┆ null  ┆ S        │\n",
       "│ 3     ┆ 4           ┆ 1        ┆ 1      ┆ … ┆ 113803           ┆ 53.1    ┆ C123  ┆ S        │\n",
       "│ 4     ┆ 5           ┆ 0        ┆ 3      ┆ … ┆ 373450           ┆ 8.05    ┆ null  ┆ S        │\n",
       "└───────┴─────────────┴──────────┴────────┴───┴──────────────────┴─────────┴───────┴──────────┘"
      ],
      "text/html": [
       "<div><style>\n",
       ".dataframe > thead > tr,\n",
       ".dataframe > tbody > tr {\n",
       "  text-align: right;\n",
       "  white-space: pre-wrap;\n",
       "}\n",
       "</style>\n",
       "<small>shape: (5, 13)</small><table border=\"1\" class=\"dataframe\"><thead><tr><th>index</th><th>PassengerId</th><th>Survived</th><th>Pclass</th><th>Name</th><th>Sex</th><th>Age</th><th>SibSp</th><th>Parch</th><th>Ticket</th><th>Fare</th><th>Cabin</th><th>Embarked</th></tr><tr><td>u32</td><td>i64</td><td>i64</td><td>i64</td><td>str</td><td>str</td><td>f64</td><td>i64</td><td>i64</td><td>str</td><td>f64</td><td>str</td><td>str</td></tr></thead><tbody><tr><td>0</td><td>1</td><td>0</td><td>3</td><td>&quot;Braund, Mr. Owen Harris&quot;</td><td>&quot;male&quot;</td><td>22.0</td><td>1</td><td>0</td><td>&quot;A/5 21171&quot;</td><td>7.25</td><td>null</td><td>&quot;S&quot;</td></tr><tr><td>1</td><td>2</td><td>1</td><td>1</td><td>&quot;Cumings, Mrs. John Bradley (Fl…</td><td>&quot;female&quot;</td><td>38.0</td><td>1</td><td>0</td><td>&quot;PC 17599&quot;</td><td>71.2833</td><td>&quot;C85&quot;</td><td>&quot;C&quot;</td></tr><tr><td>2</td><td>3</td><td>1</td><td>3</td><td>&quot;Heikkinen, Miss. Laina&quot;</td><td>&quot;female&quot;</td><td>26.0</td><td>0</td><td>0</td><td>&quot;STON/O2. 3101282&quot;</td><td>7.925</td><td>null</td><td>&quot;S&quot;</td></tr><tr><td>3</td><td>4</td><td>1</td><td>1</td><td>&quot;Futrelle, Mrs. Jacques Heath (…</td><td>&quot;female&quot;</td><td>35.0</td><td>1</td><td>0</td><td>&quot;113803&quot;</td><td>53.1</td><td>&quot;C123&quot;</td><td>&quot;S&quot;</td></tr><tr><td>4</td><td>5</td><td>0</td><td>3</td><td>&quot;Allen, Mr. William Henry&quot;</td><td>&quot;male&quot;</td><td>35.0</td><td>0</td><td>0</td><td>&quot;373450&quot;</td><td>8.05</td><td>null</td><td>&quot;S&quot;</td></tr></tbody></table></div>"
      ]
     },
     "execution_count": 8,
     "metadata": {},
     "output_type": "execute_result"
    }
   ],
   "execution_count": 8
  },
  {
   "metadata": {
    "ExecuteTime": {
     "end_time": "2024-10-10T22:09:55.271378Z",
     "start_time": "2024-10-10T22:09:55.254636Z"
    }
   },
   "cell_type": "code",
   "source": "df.with_columns(pl.col('Sex').str.to_titlecase()).head()",
   "id": "992aa07445136f5a",
   "outputs": [
    {
     "data": {
      "text/plain": [
       "shape: (5, 12)\n",
       "┌─────────────┬──────────┬────────┬───────────────────┬───┬───────────┬─────────┬───────┬──────────┐\n",
       "│ PassengerId ┆ Survived ┆ Pclass ┆ Name              ┆ … ┆ Ticket    ┆ Fare    ┆ Cabin ┆ Embarked │\n",
       "│ ---         ┆ ---      ┆ ---    ┆ ---               ┆   ┆ ---       ┆ ---     ┆ ---   ┆ ---      │\n",
       "│ i64         ┆ i64      ┆ i64    ┆ str               ┆   ┆ str       ┆ f64     ┆ str   ┆ str      │\n",
       "╞═════════════╪══════════╪════════╪═══════════════════╪═══╪═══════════╪═════════╪═══════╪══════════╡\n",
       "│ 1           ┆ 0        ┆ 3      ┆ Braund, Mr. Owen  ┆ … ┆ A/5 21171 ┆ 7.25    ┆ null  ┆ S        │\n",
       "│             ┆          ┆        ┆ Harris            ┆   ┆           ┆         ┆       ┆          │\n",
       "│ 2           ┆ 1        ┆ 1      ┆ Cumings, Mrs.     ┆ … ┆ PC 17599  ┆ 71.2833 ┆ C85   ┆ C        │\n",
       "│             ┆          ┆        ┆ John Bradley (Fl… ┆   ┆           ┆         ┆       ┆          │\n",
       "│ 3           ┆ 1        ┆ 3      ┆ Heikkinen, Miss.  ┆ … ┆ STON/O2.  ┆ 7.925   ┆ null  ┆ S        │\n",
       "│             ┆          ┆        ┆ Laina             ┆   ┆ 3101282   ┆         ┆       ┆          │\n",
       "│ 4           ┆ 1        ┆ 1      ┆ Futrelle, Mrs.    ┆ … ┆ 113803    ┆ 53.1    ┆ C123  ┆ S        │\n",
       "│             ┆          ┆        ┆ Jacques Heath (…  ┆   ┆           ┆         ┆       ┆          │\n",
       "│ 5           ┆ 0        ┆ 3      ┆ Allen, Mr.        ┆ … ┆ 373450    ┆ 8.05    ┆ null  ┆ S        │\n",
       "│             ┆          ┆        ┆ William Henry     ┆   ┆           ┆         ┆       ┆          │\n",
       "└─────────────┴──────────┴────────┴───────────────────┴───┴───────────┴─────────┴───────┴──────────┘"
      ],
      "text/html": [
       "<div><style>\n",
       ".dataframe > thead > tr,\n",
       ".dataframe > tbody > tr {\n",
       "  text-align: right;\n",
       "  white-space: pre-wrap;\n",
       "}\n",
       "</style>\n",
       "<small>shape: (5, 12)</small><table border=\"1\" class=\"dataframe\"><thead><tr><th>PassengerId</th><th>Survived</th><th>Pclass</th><th>Name</th><th>Sex</th><th>Age</th><th>SibSp</th><th>Parch</th><th>Ticket</th><th>Fare</th><th>Cabin</th><th>Embarked</th></tr><tr><td>i64</td><td>i64</td><td>i64</td><td>str</td><td>str</td><td>f64</td><td>i64</td><td>i64</td><td>str</td><td>f64</td><td>str</td><td>str</td></tr></thead><tbody><tr><td>1</td><td>0</td><td>3</td><td>&quot;Braund, Mr. Owen Harris&quot;</td><td>&quot;Male&quot;</td><td>22.0</td><td>1</td><td>0</td><td>&quot;A/5 21171&quot;</td><td>7.25</td><td>null</td><td>&quot;S&quot;</td></tr><tr><td>2</td><td>1</td><td>1</td><td>&quot;Cumings, Mrs. John Bradley (Fl…</td><td>&quot;Female&quot;</td><td>38.0</td><td>1</td><td>0</td><td>&quot;PC 17599&quot;</td><td>71.2833</td><td>&quot;C85&quot;</td><td>&quot;C&quot;</td></tr><tr><td>3</td><td>1</td><td>3</td><td>&quot;Heikkinen, Miss. Laina&quot;</td><td>&quot;Female&quot;</td><td>26.0</td><td>0</td><td>0</td><td>&quot;STON/O2. 3101282&quot;</td><td>7.925</td><td>null</td><td>&quot;S&quot;</td></tr><tr><td>4</td><td>1</td><td>1</td><td>&quot;Futrelle, Mrs. Jacques Heath (…</td><td>&quot;Female&quot;</td><td>35.0</td><td>1</td><td>0</td><td>&quot;113803&quot;</td><td>53.1</td><td>&quot;C123&quot;</td><td>&quot;S&quot;</td></tr><tr><td>5</td><td>0</td><td>3</td><td>&quot;Allen, Mr. William Henry&quot;</td><td>&quot;Male&quot;</td><td>35.0</td><td>0</td><td>0</td><td>&quot;373450&quot;</td><td>8.05</td><td>null</td><td>&quot;S&quot;</td></tr></tbody></table></div>"
      ]
     },
     "execution_count": 9,
     "metadata": {},
     "output_type": "execute_result"
    }
   ],
   "execution_count": 9
  },
  {
   "metadata": {
    "ExecuteTime": {
     "end_time": "2024-10-10T22:12:23.296669Z",
     "start_time": "2024-10-10T22:12:23.274668Z"
    }
   },
   "cell_type": "code",
   "source": "df.drop(['Pclass','Name','Parch','Ticket','Cabin','Embarked']).head()",
   "id": "1a5cc723e5b8e3b",
   "outputs": [
    {
     "data": {
      "text/plain": [
       "shape: (5, 6)\n",
       "┌─────────────┬──────────┬────────┬──────┬───────┬─────────┐\n",
       "│ PassengerId ┆ Survived ┆ Sex    ┆ Age  ┆ SibSp ┆ Fare    │\n",
       "│ ---         ┆ ---      ┆ ---    ┆ ---  ┆ ---   ┆ ---     │\n",
       "│ i64         ┆ i64      ┆ str    ┆ f64  ┆ i64   ┆ f64     │\n",
       "╞═════════════╪══════════╪════════╪══════╪═══════╪═════════╡\n",
       "│ 1           ┆ 0        ┆ male   ┆ 22.0 ┆ 1     ┆ 7.25    │\n",
       "│ 2           ┆ 1        ┆ female ┆ 38.0 ┆ 1     ┆ 71.2833 │\n",
       "│ 3           ┆ 1        ┆ female ┆ 26.0 ┆ 0     ┆ 7.925   │\n",
       "│ 4           ┆ 1        ┆ female ┆ 35.0 ┆ 1     ┆ 53.1    │\n",
       "│ 5           ┆ 0        ┆ male   ┆ 35.0 ┆ 0     ┆ 8.05    │\n",
       "└─────────────┴──────────┴────────┴──────┴───────┴─────────┘"
      ],
      "text/html": [
       "<div><style>\n",
       ".dataframe > thead > tr,\n",
       ".dataframe > tbody > tr {\n",
       "  text-align: right;\n",
       "  white-space: pre-wrap;\n",
       "}\n",
       "</style>\n",
       "<small>shape: (5, 6)</small><table border=\"1\" class=\"dataframe\"><thead><tr><th>PassengerId</th><th>Survived</th><th>Sex</th><th>Age</th><th>SibSp</th><th>Fare</th></tr><tr><td>i64</td><td>i64</td><td>str</td><td>f64</td><td>i64</td><td>f64</td></tr></thead><tbody><tr><td>1</td><td>0</td><td>&quot;male&quot;</td><td>22.0</td><td>1</td><td>7.25</td></tr><tr><td>2</td><td>1</td><td>&quot;female&quot;</td><td>38.0</td><td>1</td><td>71.2833</td></tr><tr><td>3</td><td>1</td><td>&quot;female&quot;</td><td>26.0</td><td>0</td><td>7.925</td></tr><tr><td>4</td><td>1</td><td>&quot;female&quot;</td><td>35.0</td><td>1</td><td>53.1</td></tr><tr><td>5</td><td>0</td><td>&quot;male&quot;</td><td>35.0</td><td>0</td><td>8.05</td></tr></tbody></table></div>"
      ]
     },
     "execution_count": 12,
     "metadata": {},
     "output_type": "execute_result"
    }
   ],
   "execution_count": 12
  },
  {
   "metadata": {
    "ExecuteTime": {
     "end_time": "2024-10-10T22:13:50.725466Z",
     "start_time": "2024-10-10T22:13:50.706386Z"
    }
   },
   "cell_type": "code",
   "source": "df.select(['PassengerId','Survived','Sex','Fare']).head()",
   "id": "78b355264d77eced",
   "outputs": [
    {
     "data": {
      "text/plain": [
       "shape: (5, 4)\n",
       "┌─────────────┬──────────┬────────┬─────────┐\n",
       "│ PassengerId ┆ Survived ┆ Sex    ┆ Fare    │\n",
       "│ ---         ┆ ---      ┆ ---    ┆ ---     │\n",
       "│ i64         ┆ i64      ┆ str    ┆ f64     │\n",
       "╞═════════════╪══════════╪════════╪═════════╡\n",
       "│ 1           ┆ 0        ┆ male   ┆ 7.25    │\n",
       "│ 2           ┆ 1        ┆ female ┆ 71.2833 │\n",
       "│ 3           ┆ 1        ┆ female ┆ 7.925   │\n",
       "│ 4           ┆ 1        ┆ female ┆ 53.1    │\n",
       "│ 5           ┆ 0        ┆ male   ┆ 8.05    │\n",
       "└─────────────┴──────────┴────────┴─────────┘"
      ],
      "text/html": [
       "<div><style>\n",
       ".dataframe > thead > tr,\n",
       ".dataframe > tbody > tr {\n",
       "  text-align: right;\n",
       "  white-space: pre-wrap;\n",
       "}\n",
       "</style>\n",
       "<small>shape: (5, 4)</small><table border=\"1\" class=\"dataframe\"><thead><tr><th>PassengerId</th><th>Survived</th><th>Sex</th><th>Fare</th></tr><tr><td>i64</td><td>i64</td><td>str</td><td>f64</td></tr></thead><tbody><tr><td>1</td><td>0</td><td>&quot;male&quot;</td><td>7.25</td></tr><tr><td>2</td><td>1</td><td>&quot;female&quot;</td><td>71.2833</td></tr><tr><td>3</td><td>1</td><td>&quot;female&quot;</td><td>7.925</td></tr><tr><td>4</td><td>1</td><td>&quot;female&quot;</td><td>53.1</td></tr><tr><td>5</td><td>0</td><td>&quot;male&quot;</td><td>8.05</td></tr></tbody></table></div>"
      ]
     },
     "execution_count": 14,
     "metadata": {},
     "output_type": "execute_result"
    }
   ],
   "execution_count": 14
  },
  {
   "metadata": {
    "ExecuteTime": {
     "end_time": "2024-10-10T22:19:42.974200Z",
     "start_time": "2024-10-10T22:19:42.951311Z"
    }
   },
   "cell_type": "code",
   "source": [
    "best_practice=(df.with_columns(\n",
    "    pl.col('Fare').max().alias('Max Fare'),\n",
    "    pl.lit('Titanic'),\n",
    "    pl.col('Sex').str.to_titlecase()\n",
    "))"
   ],
   "id": "103a39326b51cf6a",
   "outputs": [],
   "execution_count": 15
  },
  {
   "metadata": {
    "ExecuteTime": {
     "end_time": "2024-10-10T22:19:48.933592Z",
     "start_time": "2024-10-10T22:19:48.917990Z"
    }
   },
   "cell_type": "code",
   "source": "best_practice",
   "id": "24b22dbb7a5e02ac",
   "outputs": [
    {
     "data": {
      "text/plain": [
       "shape: (891, 14)\n",
       "┌─────────────┬──────────┬────────┬────────────────────┬───┬───────┬──────────┬──────────┬─────────┐\n",
       "│ PassengerId ┆ Survived ┆ Pclass ┆ Name               ┆ … ┆ Cabin ┆ Embarked ┆ Max Fare ┆ literal │\n",
       "│ ---         ┆ ---      ┆ ---    ┆ ---                ┆   ┆ ---   ┆ ---      ┆ ---      ┆ ---     │\n",
       "│ i64         ┆ i64      ┆ i64    ┆ str                ┆   ┆ str   ┆ str      ┆ f64      ┆ str     │\n",
       "╞═════════════╪══════════╪════════╪════════════════════╪═══╪═══════╪══════════╪══════════╪═════════╡\n",
       "│ 1           ┆ 0        ┆ 3      ┆ Braund, Mr. Owen   ┆ … ┆ null  ┆ S        ┆ 512.3292 ┆ Titanic │\n",
       "│             ┆          ┆        ┆ Harris             ┆   ┆       ┆          ┆          ┆         │\n",
       "│ 2           ┆ 1        ┆ 1      ┆ Cumings, Mrs. John ┆ … ┆ C85   ┆ C        ┆ 512.3292 ┆ Titanic │\n",
       "│             ┆          ┆        ┆ Bradley (Fl…       ┆   ┆       ┆          ┆          ┆         │\n",
       "│ 3           ┆ 1        ┆ 3      ┆ Heikkinen, Miss.   ┆ … ┆ null  ┆ S        ┆ 512.3292 ┆ Titanic │\n",
       "│             ┆          ┆        ┆ Laina              ┆   ┆       ┆          ┆          ┆         │\n",
       "│ 4           ┆ 1        ┆ 1      ┆ Futrelle, Mrs.     ┆ … ┆ C123  ┆ S        ┆ 512.3292 ┆ Titanic │\n",
       "│             ┆          ┆        ┆ Jacques Heath (…   ┆   ┆       ┆          ┆          ┆         │\n",
       "│ 5           ┆ 0        ┆ 3      ┆ Allen, Mr. William ┆ … ┆ null  ┆ S        ┆ 512.3292 ┆ Titanic │\n",
       "│             ┆          ┆        ┆ Henry              ┆   ┆       ┆          ┆          ┆         │\n",
       "│ …           ┆ …        ┆ …      ┆ …                  ┆ … ┆ …     ┆ …        ┆ …        ┆ …       │\n",
       "│ 887         ┆ 0        ┆ 2      ┆ Montvila, Rev.     ┆ … ┆ null  ┆ S        ┆ 512.3292 ┆ Titanic │\n",
       "│             ┆          ┆        ┆ Juozas             ┆   ┆       ┆          ┆          ┆         │\n",
       "│ 888         ┆ 1        ┆ 1      ┆ Graham, Miss.      ┆ … ┆ B42   ┆ S        ┆ 512.3292 ┆ Titanic │\n",
       "│             ┆          ┆        ┆ Margaret Edith     ┆   ┆       ┆          ┆          ┆         │\n",
       "│ 889         ┆ 0        ┆ 3      ┆ Johnston, Miss.    ┆ … ┆ null  ┆ S        ┆ 512.3292 ┆ Titanic │\n",
       "│             ┆          ┆        ┆ Catherine Hele…    ┆   ┆       ┆          ┆          ┆         │\n",
       "│ 890         ┆ 1        ┆ 1      ┆ Behr, Mr. Karl     ┆ … ┆ C148  ┆ C        ┆ 512.3292 ┆ Titanic │\n",
       "│             ┆          ┆        ┆ Howell             ┆   ┆       ┆          ┆          ┆         │\n",
       "│ 891         ┆ 0        ┆ 3      ┆ Dooley, Mr.        ┆ … ┆ null  ┆ Q        ┆ 512.3292 ┆ Titanic │\n",
       "│             ┆          ┆        ┆ Patrick            ┆   ┆       ┆          ┆          ┆         │\n",
       "└─────────────┴──────────┴────────┴────────────────────┴───┴───────┴──────────┴──────────┴─────────┘"
      ],
      "text/html": [
       "<div><style>\n",
       ".dataframe > thead > tr,\n",
       ".dataframe > tbody > tr {\n",
       "  text-align: right;\n",
       "  white-space: pre-wrap;\n",
       "}\n",
       "</style>\n",
       "<small>shape: (891, 14)</small><table border=\"1\" class=\"dataframe\"><thead><tr><th>PassengerId</th><th>Survived</th><th>Pclass</th><th>Name</th><th>Sex</th><th>Age</th><th>SibSp</th><th>Parch</th><th>Ticket</th><th>Fare</th><th>Cabin</th><th>Embarked</th><th>Max Fare</th><th>literal</th></tr><tr><td>i64</td><td>i64</td><td>i64</td><td>str</td><td>str</td><td>f64</td><td>i64</td><td>i64</td><td>str</td><td>f64</td><td>str</td><td>str</td><td>f64</td><td>str</td></tr></thead><tbody><tr><td>1</td><td>0</td><td>3</td><td>&quot;Braund, Mr. Owen Harris&quot;</td><td>&quot;Male&quot;</td><td>22.0</td><td>1</td><td>0</td><td>&quot;A/5 21171&quot;</td><td>7.25</td><td>null</td><td>&quot;S&quot;</td><td>512.3292</td><td>&quot;Titanic&quot;</td></tr><tr><td>2</td><td>1</td><td>1</td><td>&quot;Cumings, Mrs. John Bradley (Fl…</td><td>&quot;Female&quot;</td><td>38.0</td><td>1</td><td>0</td><td>&quot;PC 17599&quot;</td><td>71.2833</td><td>&quot;C85&quot;</td><td>&quot;C&quot;</td><td>512.3292</td><td>&quot;Titanic&quot;</td></tr><tr><td>3</td><td>1</td><td>3</td><td>&quot;Heikkinen, Miss. Laina&quot;</td><td>&quot;Female&quot;</td><td>26.0</td><td>0</td><td>0</td><td>&quot;STON/O2. 3101282&quot;</td><td>7.925</td><td>null</td><td>&quot;S&quot;</td><td>512.3292</td><td>&quot;Titanic&quot;</td></tr><tr><td>4</td><td>1</td><td>1</td><td>&quot;Futrelle, Mrs. Jacques Heath (…</td><td>&quot;Female&quot;</td><td>35.0</td><td>1</td><td>0</td><td>&quot;113803&quot;</td><td>53.1</td><td>&quot;C123&quot;</td><td>&quot;S&quot;</td><td>512.3292</td><td>&quot;Titanic&quot;</td></tr><tr><td>5</td><td>0</td><td>3</td><td>&quot;Allen, Mr. William Henry&quot;</td><td>&quot;Male&quot;</td><td>35.0</td><td>0</td><td>0</td><td>&quot;373450&quot;</td><td>8.05</td><td>null</td><td>&quot;S&quot;</td><td>512.3292</td><td>&quot;Titanic&quot;</td></tr><tr><td>&hellip;</td><td>&hellip;</td><td>&hellip;</td><td>&hellip;</td><td>&hellip;</td><td>&hellip;</td><td>&hellip;</td><td>&hellip;</td><td>&hellip;</td><td>&hellip;</td><td>&hellip;</td><td>&hellip;</td><td>&hellip;</td><td>&hellip;</td></tr><tr><td>887</td><td>0</td><td>2</td><td>&quot;Montvila, Rev. Juozas&quot;</td><td>&quot;Male&quot;</td><td>27.0</td><td>0</td><td>0</td><td>&quot;211536&quot;</td><td>13.0</td><td>null</td><td>&quot;S&quot;</td><td>512.3292</td><td>&quot;Titanic&quot;</td></tr><tr><td>888</td><td>1</td><td>1</td><td>&quot;Graham, Miss. Margaret Edith&quot;</td><td>&quot;Female&quot;</td><td>19.0</td><td>0</td><td>0</td><td>&quot;112053&quot;</td><td>30.0</td><td>&quot;B42&quot;</td><td>&quot;S&quot;</td><td>512.3292</td><td>&quot;Titanic&quot;</td></tr><tr><td>889</td><td>0</td><td>3</td><td>&quot;Johnston, Miss. Catherine Hele…</td><td>&quot;Female&quot;</td><td>null</td><td>1</td><td>2</td><td>&quot;W./C. 6607&quot;</td><td>23.45</td><td>null</td><td>&quot;S&quot;</td><td>512.3292</td><td>&quot;Titanic&quot;</td></tr><tr><td>890</td><td>1</td><td>1</td><td>&quot;Behr, Mr. Karl Howell&quot;</td><td>&quot;Male&quot;</td><td>26.0</td><td>0</td><td>0</td><td>&quot;111369&quot;</td><td>30.0</td><td>&quot;C148&quot;</td><td>&quot;C&quot;</td><td>512.3292</td><td>&quot;Titanic&quot;</td></tr><tr><td>891</td><td>0</td><td>3</td><td>&quot;Dooley, Mr. Patrick&quot;</td><td>&quot;Male&quot;</td><td>32.0</td><td>0</td><td>0</td><td>&quot;370376&quot;</td><td>7.75</td><td>null</td><td>&quot;Q&quot;</td><td>512.3292</td><td>&quot;Titanic&quot;</td></tr></tbody></table></div>"
      ]
     },
     "execution_count": 16,
     "metadata": {},
     "output_type": "execute_result"
    }
   ],
   "execution_count": 16
  },
  {
   "metadata": {},
   "cell_type": "code",
   "outputs": [],
   "execution_count": null,
   "source": "",
   "id": "2f4e63a5aad3faf3"
  }
 ],
 "metadata": {
  "kernelspec": {
   "display_name": "Python 3",
   "language": "python",
   "name": "python3"
  },
  "language_info": {
   "codemirror_mode": {
    "name": "ipython",
    "version": 2
   },
   "file_extension": ".py",
   "mimetype": "text/x-python",
   "name": "python",
   "nbconvert_exporter": "python",
   "pygments_lexer": "ipython2",
   "version": "2.7.6"
  }
 },
 "nbformat": 4,
 "nbformat_minor": 5
}
